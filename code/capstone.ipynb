{
 "cells": [
  {
   "cell_type": "code",
   "execution_count": null,
   "metadata": {
    "collapsed": true,
    "pycharm": {
     "is_executing": true
    }
   },
   "outputs": [],
   "source": [
    "from data_collection.vso_search_result import VSOSearchResult\n",
    "from data_collection.fido_search_result import FidoSearchResult\n",
    "from data_collection.gong_sampler import sample_by_size\n",
    "from data_collection.gong_sampler import sample_by_cadence\n",
    "from PIL import Image\n",
    "from PIL.ImageStat import Stat\n",
    "import requests\n",
    "import pandas as pd\n",
    "import numpy as np\n",
    "import skimage\n",
    "import os\n",
    "from tqdm import tqdm\n",
    "import time"
   ]
  },
  {
   "cell_type": "markdown",
   "source": [
    "## Anomaly Detection by Statistical Analysis"
   ],
   "metadata": {
    "collapsed": false
   }
  },
  {
   "cell_type": "code",
   "execution_count": 495,
   "outputs": [],
   "source": [
    "def get_each_image(url: str):\n",
    "    \"\"\"\n",
    "    This function accesses a passed url, downloads the image, and saves it to the local folder for processing. The image\n",
    "    is overwritten each time the function is called.\n",
    "\n",
    "    Parameters\n",
    "    ----------\n",
    "    url\n",
    "        a URL address corresponding to a single image\n",
    "\n",
    "    Returns\n",
    "    -------\n",
    "        the image\n",
    "\n",
    "    \"\"\"\n",
    "    image_url = url\n",
    "    image_temp = Image.open(requests.get(image_url, stream=True).raw)\n",
    "    image_temp.save('.image.jpg')\n",
    "    img = Image.open('.image.jpg')\n",
    "\n",
    "    return img"
   ],
   "metadata": {
    "collapsed": false
   }
  },
  {
   "cell_type": "code",
   "execution_count": 496,
   "outputs": [],
   "source": [
    "def avg_image_brightness(url_array: list):\n",
    "    \"\"\"\n",
    "    This function calculates the average brightness of an entire sampled image from a list of image urls and appends the\n",
    "    values to a list of mean values.\n",
    "\n",
    "    Parameters\n",
    "    ----------\n",
    "    url_array\n",
    "        an array of image urls for which the average brightness is being calculated\n",
    "\n",
    "    Returns\n",
    "    -------\n",
    "        an array of float type values corresponding to the average brightness of the sampled image\n",
    "    \"\"\"\n",
    "    mean_array = []\n",
    "\n",
    "    for i in url_array:\n",
    "        img = get_each_image(i)\n",
    "        image_stat = Stat(img)\n",
    "        mean_array.append(image_stat.mean)\n",
    "\n",
    "    return mean_array"
   ],
   "metadata": {
    "collapsed": false
   }
  },
  {
   "cell_type": "code",
   "execution_count": 497,
   "outputs": [],
   "source": [
    "def block_reduce_image(img, side_length: int):\n",
    "    \"\"\"\n",
    "    This function down-samples an image to collect the average pixel values and converts them into an array.\n",
    "\n",
    "    Parameters\n",
    "    ----------\n",
    "    img\n",
    "        the image to be processed\n",
    "    side_length\n",
    "        the desired side length of the grid\n",
    "\n",
    "    Returns\n",
    "    -------\n",
    "        a dataframe filled with specified image brightness values\n",
    "    \"\"\"\n",
    "    pixel_array = np.array(img)\n",
    "    down_sample = int(img.size[0] / side_length)\n",
    "    array = skimage.measure.block_reduce(pixel_array, (down_sample, down_sample), np.mean)\n",
    "\n",
    "    return array"
   ],
   "metadata": {
    "collapsed": false
   }
  },
  {
   "cell_type": "code",
   "execution_count": 505,
   "outputs": [],
   "source": [
    "def get_pixel_data(urls: list, side_length: int):\n",
    "    \"\"\"\n",
    "    This function calculates the brightness of each resized pixel and stores the data in a dataframe for processing.\n",
    "\n",
    "    Parameters\n",
    "    ----------\n",
    "    urls\n",
    "        an array of image urls for which the average brightness per pixel is being calculated\n",
    "    side_length\n",
    "        the desired side length of the grid\n",
    "\n",
    "    Returns\n",
    "    -------\n",
    "        a dataframe filled with specified image brightness values\n",
    "    \"\"\"\n",
    "    df = pd.DataFrame()\n",
    "\n",
    "    for i in tqdm(urls):\n",
    "        bw_img = get_each_image(i).convert(\"L\")\n",
    "        ds_array = block_reduce_image(bw_img, side_length)\n",
    "\n",
    "        row = ds_array.flatten()\n",
    "        row = pd.Series(row)\n",
    "        row = row.to_frame().T\n",
    "\n",
    "        df = pd.concat([df, row], ignore_index=True)\n",
    "\n",
    "    df['URLs'] = urls\n",
    "    df.set_index('URLs', inplace=True)\n",
    "\n",
    "    os.remove('.image.jpg')\n",
    "\n",
    "    return df"
   ],
   "metadata": {
    "collapsed": false
   }
  },
  {
   "cell_type": "code",
   "execution_count": 499,
   "outputs": [],
   "source": [
    "def find_range(df):\n",
    "    \"\"\"\n",
    "    This function subtracts the median value of each row from each cell in the row and calculates ranges based on\n",
    "    preset percentiles. It then calculates a range based on a multiple of the \"inner quartile range\" and replaces each\n",
    "    cell value with a boolean value indicating whether that value falls within (True), or outside of (False), the given\n",
    "    range.\n",
    "\n",
    "    Parameters\n",
    "    ----------\n",
    "    df\n",
    "        a dataframe of pixel brightness values\n",
    "    Returns\n",
    "    -------\n",
    "        an updated dataframe\n",
    "    \"\"\"\n",
    "    df = df.sub(df.median(axis=1), axis=0)\n",
    "\n",
    "    for col in df:\n",
    "        pl = np.percentile(df[col], 4)\n",
    "        ph = np.percentile(df[col], 96)\n",
    "        iqr = ph - pl\n",
    "        lower = pl - iqr * 1.5\n",
    "        upper = ph + iqr * 1.5\n",
    "        df[col] = df[col].between(lower, upper)\n",
    "\n",
    "    return df"
   ],
   "metadata": {
    "collapsed": false
   }
  },
  {
   "cell_type": "code",
   "execution_count": 503,
   "outputs": [],
   "source": [
    "def find_corrupt_images(df):\n",
    "    \"\"\"\n",
    "    This function applies a suite of tools to determine which images are likely corrupted and unsuitable for further\n",
    "    processing.\n",
    "\n",
    "    Parameters\n",
    "    ----------\n",
    "    df\n",
    "        a data frame of pixel brightness values.\n",
    "\n",
    "    Returns\n",
    "    -------\n",
    "        a list of unique image identifications for corrupted images.\n",
    "    \"\"\"\n",
    "    df = find_range(df)\n",
    "    counts = df.apply(pd.Series.value_counts, axis=1)\n",
    "\n",
    "    if False in counts.columns:\n",
    "        corrupted = counts.index[counts[False] > 0]\n",
    "    else:\n",
    "        corrupted = []\n",
    "\n",
    "    return corrupted"
   ],
   "metadata": {
    "collapsed": false
   }
  },
  {
   "cell_type": "code",
   "execution_count": 504,
   "outputs": [
    {
     "name": "stdout",
     "output_type": "stream",
     "text": [
      "100 observations have been found.\n"
     ]
    },
    {
     "name": "stderr",
     "output_type": "stream",
     "text": [
      "100%|██████████| 100/100 [01:03<00:00,  1.57it/s]\n"
     ]
    },
    {
     "name": "stdout",
     "output_type": "stream",
     "text": [
      "4 corrupted images were found: \n",
      "https://gong2.nso.edu/HA/hag/201201/20120102/20120102190114Mh.jpg\n",
      "https://gong2.nso.edu/HA/hag/201201/20120104/20120104190414Mh.jpg\n",
      "https://gong2.nso.edu/HA/hag/201201/20120107/20120107192214Mh.jpg\n",
      "https://gong2.nso.edu/HA/hag/201201/20120111/20120111190014Mh.jpg\n",
      "____________________________________________\n",
      "The execution time is:  1.0627101143201192  minutes\n",
      "____________________________________________\n"
     ]
    }
   ],
   "source": [
    "if __name__ == \"__main__\":\n",
    "    begin = \"2012-01-01 00:00:01\"\n",
    "    end = \"2012-02-01 23:59:59\"\n",
    "    image_data: VSOSearchResult = sample_by_size(begin, end, 100, \"maunaloa\")\n",
    "    print(\"{} observations have been found.\".format(image_data.n_queried_files))\n",
    "    image_data.generate_url_metadata(fits_urls=True, header_urls=True, jpg_urls=True)\n",
    "    image_urls = image_data.jpg_urls\n",
    "    start = time.time()\n",
    "    pixel_data = get_pixel_data(image_urls, 16)\n",
    "    corrupt_images = find_corrupt_images(pixel_data)\n",
    "    end = time.time()\n",
    "    print(\"{} corrupted images were found: \".format(len(corrupt_images)))\n",
    "    print('\\n'.join(map(str, corrupt_images)))\n",
    "    print(\"____________________________________________\")\n",
    "    print(\"The execution time is: \", (end - start) / 60, \" minutes\")\n",
    "    print(\"____________________________________________\")"
   ],
   "metadata": {
    "collapsed": false
   }
  },
  {
   "cell_type": "code",
   "execution_count": null,
   "outputs": [],
   "source": [
    "if __name__ == \"__main__\":\n",
    "    begin = \"2012-01-01 00:00:01\"\n",
    "    end = \"2012-02-01 23:59:59\"\n",
    "    image_data: FidoSearchResult = sample_by_cadence(begin, end, 120, \"maunaloa\")\n",
    "    print(\"{} observations have been found.\".format(image_data.total_observations))"
   ],
   "metadata": {
    "collapsed": false,
    "pycharm": {
     "is_executing": true
    }
   }
  },
  {
   "cell_type": "markdown",
   "source": [
    "## Isolation Forest"
   ],
   "metadata": {
    "collapsed": false
   }
  },
  {
   "cell_type": "code",
   "execution_count": 506,
   "outputs": [],
   "source": [
    "from sklearn.ensemble import IsolationForest"
   ],
   "metadata": {
    "collapsed": false
   }
  },
  {
   "cell_type": "code",
   "execution_count": 507,
   "outputs": [],
   "source": [
    "data = pixel_data #get_pixel_data(image_urls, 16)\n",
    "columns = data.columns"
   ],
   "metadata": {
    "collapsed": false
   }
  },
  {
   "cell_type": "code",
   "execution_count": 508,
   "outputs": [
    {
     "name": "stdout",
     "output_type": "stream",
     "text": [
      " 1    95\n",
      "-1     5\n",
      "Name: anomaly, dtype: int64\n"
     ]
    }
   ],
   "source": [
    "clf = IsolationForest(contamination=float(0.05))\n",
    "clf.fit(data[columns])\n",
    "pred = clf.predict(data[columns])\n",
    "data['anomaly'] = pred\n",
    "outliers = data.loc[data['anomaly'] == -1]\n",
    "print(data['anomaly'].value_counts())"
   ],
   "metadata": {
    "collapsed": false
   }
  },
  {
   "cell_type": "code",
   "execution_count": 509,
   "outputs": [
    {
     "data": {
      "text/plain": "                                                            0          1  \\\nURLs                                                                       \nhttps://gong2.nso.edu/HA/hag/201201/20120102/20...  50.240784  40.942078   \nhttps://gong2.nso.edu/HA/hag/201201/20120104/20...  50.240784  40.942078   \nhttps://gong2.nso.edu/HA/hag/201201/20120107/20...  50.240784  40.942078   \nhttps://gong2.nso.edu/HA/hag/201201/20120111/20...  50.240784  40.942078   \nhttps://gong2.nso.edu/HA/hag/201201/20120127/20...  50.240784  40.942078   \n\n                                                            2          3  \\\nURLs                                                                       \nhttps://gong2.nso.edu/HA/hag/201201/20120102/20...  37.127014  38.066650   \nhttps://gong2.nso.edu/HA/hag/201201/20120104/20...  37.127014  38.085632   \nhttps://gong2.nso.edu/HA/hag/201201/20120107/20...  37.127014  38.203247   \nhttps://gong2.nso.edu/HA/hag/201201/20120111/20...  37.127014  38.076233   \nhttps://gong2.nso.edu/HA/hag/201201/20120127/20...  37.127014  38.104370   \n\n                                                            4           5  \\\nURLs                                                                        \nhttps://gong2.nso.edu/HA/hag/201201/20120102/20...  55.907959  125.563354   \nhttps://gong2.nso.edu/HA/hag/201201/20120104/20...  53.058960  113.948242   \nhttps://gong2.nso.edu/HA/hag/201201/20120107/20...  55.430420  116.360962   \nhttps://gong2.nso.edu/HA/hag/201201/20120111/20...  59.811829  124.953491   \nhttps://gong2.nso.edu/HA/hag/201201/20120127/20...  27.153381   50.441223   \n\n                                                             6           7  \\\nURLs                                                                         \nhttps://gong2.nso.edu/HA/hag/201201/20120102/20...  172.987549  183.276917   \nhttps://gong2.nso.edu/HA/hag/201201/20120104/20...  155.053284  161.261414   \nhttps://gong2.nso.edu/HA/hag/201201/20120107/20...  157.207214  161.720825   \nhttps://gong2.nso.edu/HA/hag/201201/20120111/20...  136.348633  133.590942   \nhttps://gong2.nso.edu/HA/hag/201201/20120127/20...   69.361206   76.667603   \n\n                                                             8           9  \\\nURLs                                                                         \nhttps://gong2.nso.edu/HA/hag/201201/20120102/20...  181.634705  168.236328   \nhttps://gong2.nso.edu/HA/hag/201201/20120104/20...  157.594177  142.090881   \nhttps://gong2.nso.edu/HA/hag/201201/20120107/20...  160.917053  155.704407   \nhttps://gong2.nso.edu/HA/hag/201201/20120111/20...  137.300659  156.149841   \nhttps://gong2.nso.edu/HA/hag/201201/20120127/20...   75.273315   66.546875   \n\n                                                    ...        247        248  \\\nURLs                                                ...                         \nhttps://gong2.nso.edu/HA/hag/201201/20120102/20...  ...  74.374634  73.757812   \nhttps://gong2.nso.edu/HA/hag/201201/20120104/20...  ...  86.234558  86.636475   \nhttps://gong2.nso.edu/HA/hag/201201/20120107/20...  ...   2.302124   2.045593   \nhttps://gong2.nso.edu/HA/hag/201201/20120111/20...  ...  43.070557  54.739868   \nhttps://gong2.nso.edu/HA/hag/201201/20120127/20...  ...  71.047485  70.878906   \n\n                                                          249         250  \\\nURLs                                                                        \nhttps://gong2.nso.edu/HA/hag/201201/20120102/20...  69.582520   49.178284   \nhttps://gong2.nso.edu/HA/hag/201201/20120104/20...  84.625610   63.307556   \nhttps://gong2.nso.edu/HA/hag/201201/20120107/20...   2.114624    1.803467   \nhttps://gong2.nso.edu/HA/hag/201201/20120111/20...  87.410400  101.785339   \nhttps://gong2.nso.edu/HA/hag/201201/20120127/20...  63.479065   44.093567   \n\n                                                          251       252  253  \\\nURLs                                                                           \nhttps://gong2.nso.edu/HA/hag/201201/20120102/20...  19.937012  1.108276  1.0   \nhttps://gong2.nso.edu/HA/hag/201201/20120104/20...  27.272766  1.149475  1.0   \nhttps://gong2.nso.edu/HA/hag/201201/20120107/20...   1.405884  1.003784  1.0   \nhttps://gong2.nso.edu/HA/hag/201201/20120111/20...  35.669922  1.057495  1.0   \nhttps://gong2.nso.edu/HA/hag/201201/20120127/20...  17.934937  1.083740  1.0   \n\n                                                          254         255  \\\nURLs                                                                        \nhttps://gong2.nso.edu/HA/hag/201201/20120102/20...  31.555969  156.397522   \nhttps://gong2.nso.edu/HA/hag/201201/20120104/20...  31.555969  156.397522   \nhttps://gong2.nso.edu/HA/hag/201201/20120107/20...  31.555969  156.397522   \nhttps://gong2.nso.edu/HA/hag/201201/20120111/20...  31.555969  156.397522   \nhttps://gong2.nso.edu/HA/hag/201201/20120127/20...  31.555969  156.397522   \n\n                                                    anomaly  \nURLs                                                         \nhttps://gong2.nso.edu/HA/hag/201201/20120102/20...       -1  \nhttps://gong2.nso.edu/HA/hag/201201/20120104/20...       -1  \nhttps://gong2.nso.edu/HA/hag/201201/20120107/20...       -1  \nhttps://gong2.nso.edu/HA/hag/201201/20120111/20...       -1  \nhttps://gong2.nso.edu/HA/hag/201201/20120127/20...       -1  \n\n[5 rows x 257 columns]",
      "text/html": "<div>\n<style scoped>\n    .dataframe tbody tr th:only-of-type {\n        vertical-align: middle;\n    }\n\n    .dataframe tbody tr th {\n        vertical-align: top;\n    }\n\n    .dataframe thead th {\n        text-align: right;\n    }\n</style>\n<table border=\"1\" class=\"dataframe\">\n  <thead>\n    <tr style=\"text-align: right;\">\n      <th></th>\n      <th>0</th>\n      <th>1</th>\n      <th>2</th>\n      <th>3</th>\n      <th>4</th>\n      <th>5</th>\n      <th>6</th>\n      <th>7</th>\n      <th>8</th>\n      <th>9</th>\n      <th>...</th>\n      <th>247</th>\n      <th>248</th>\n      <th>249</th>\n      <th>250</th>\n      <th>251</th>\n      <th>252</th>\n      <th>253</th>\n      <th>254</th>\n      <th>255</th>\n      <th>anomaly</th>\n    </tr>\n    <tr>\n      <th>URLs</th>\n      <th></th>\n      <th></th>\n      <th></th>\n      <th></th>\n      <th></th>\n      <th></th>\n      <th></th>\n      <th></th>\n      <th></th>\n      <th></th>\n      <th></th>\n      <th></th>\n      <th></th>\n      <th></th>\n      <th></th>\n      <th></th>\n      <th></th>\n      <th></th>\n      <th></th>\n      <th></th>\n      <th></th>\n    </tr>\n  </thead>\n  <tbody>\n    <tr>\n      <th>https://gong2.nso.edu/HA/hag/201201/20120102/20120102190114Mh.jpg</th>\n      <td>50.240784</td>\n      <td>40.942078</td>\n      <td>37.127014</td>\n      <td>38.066650</td>\n      <td>55.907959</td>\n      <td>125.563354</td>\n      <td>172.987549</td>\n      <td>183.276917</td>\n      <td>181.634705</td>\n      <td>168.236328</td>\n      <td>...</td>\n      <td>74.374634</td>\n      <td>73.757812</td>\n      <td>69.582520</td>\n      <td>49.178284</td>\n      <td>19.937012</td>\n      <td>1.108276</td>\n      <td>1.0</td>\n      <td>31.555969</td>\n      <td>156.397522</td>\n      <td>-1</td>\n    </tr>\n    <tr>\n      <th>https://gong2.nso.edu/HA/hag/201201/20120104/20120104190414Mh.jpg</th>\n      <td>50.240784</td>\n      <td>40.942078</td>\n      <td>37.127014</td>\n      <td>38.085632</td>\n      <td>53.058960</td>\n      <td>113.948242</td>\n      <td>155.053284</td>\n      <td>161.261414</td>\n      <td>157.594177</td>\n      <td>142.090881</td>\n      <td>...</td>\n      <td>86.234558</td>\n      <td>86.636475</td>\n      <td>84.625610</td>\n      <td>63.307556</td>\n      <td>27.272766</td>\n      <td>1.149475</td>\n      <td>1.0</td>\n      <td>31.555969</td>\n      <td>156.397522</td>\n      <td>-1</td>\n    </tr>\n    <tr>\n      <th>https://gong2.nso.edu/HA/hag/201201/20120107/20120107192214Mh.jpg</th>\n      <td>50.240784</td>\n      <td>40.942078</td>\n      <td>37.127014</td>\n      <td>38.203247</td>\n      <td>55.430420</td>\n      <td>116.360962</td>\n      <td>157.207214</td>\n      <td>161.720825</td>\n      <td>160.917053</td>\n      <td>155.704407</td>\n      <td>...</td>\n      <td>2.302124</td>\n      <td>2.045593</td>\n      <td>2.114624</td>\n      <td>1.803467</td>\n      <td>1.405884</td>\n      <td>1.003784</td>\n      <td>1.0</td>\n      <td>31.555969</td>\n      <td>156.397522</td>\n      <td>-1</td>\n    </tr>\n    <tr>\n      <th>https://gong2.nso.edu/HA/hag/201201/20120111/20120111190014Mh.jpg</th>\n      <td>50.240784</td>\n      <td>40.942078</td>\n      <td>37.127014</td>\n      <td>38.076233</td>\n      <td>59.811829</td>\n      <td>124.953491</td>\n      <td>136.348633</td>\n      <td>133.590942</td>\n      <td>137.300659</td>\n      <td>156.149841</td>\n      <td>...</td>\n      <td>43.070557</td>\n      <td>54.739868</td>\n      <td>87.410400</td>\n      <td>101.785339</td>\n      <td>35.669922</td>\n      <td>1.057495</td>\n      <td>1.0</td>\n      <td>31.555969</td>\n      <td>156.397522</td>\n      <td>-1</td>\n    </tr>\n    <tr>\n      <th>https://gong2.nso.edu/HA/hag/201201/20120127/20120127180214Mh.jpg</th>\n      <td>50.240784</td>\n      <td>40.942078</td>\n      <td>37.127014</td>\n      <td>38.104370</td>\n      <td>27.153381</td>\n      <td>50.441223</td>\n      <td>69.361206</td>\n      <td>76.667603</td>\n      <td>75.273315</td>\n      <td>66.546875</td>\n      <td>...</td>\n      <td>71.047485</td>\n      <td>70.878906</td>\n      <td>63.479065</td>\n      <td>44.093567</td>\n      <td>17.934937</td>\n      <td>1.083740</td>\n      <td>1.0</td>\n      <td>31.555969</td>\n      <td>156.397522</td>\n      <td>-1</td>\n    </tr>\n  </tbody>\n</table>\n<p>5 rows × 257 columns</p>\n</div>"
     },
     "execution_count": 509,
     "metadata": {},
     "output_type": "execute_result"
    }
   ],
   "source": [
    "outliers"
   ],
   "metadata": {
    "collapsed": false
   }
  },
  {
   "cell_type": "markdown",
   "source": [
    "## More Validation"
   ],
   "metadata": {
    "collapsed": false
   }
  },
  {
   "cell_type": "code",
   "execution_count": 517,
   "outputs": [
    {
     "data": {
      "text/plain": "['/Users/Copeland/Downloads/jpeg_images/wavelet_20130727031814Mh.jpeg',\n '/Users/Copeland/Downloads/jpeg_images/wavelet_20130727035014Mh.jpeg',\n '/Users/Copeland/Downloads/jpeg_images/wavelet_20130728180014Mh.jpeg',\n '/Users/Copeland/Downloads/jpeg_images/wavelet_20130731214114Mh.jpeg',\n '/Users/Copeland/Downloads/jpeg_images/wavelet_20130729042214Mh.jpeg',\n '/Users/Copeland/Downloads/jpeg_images/wavelet_20130726201214Mh.jpeg',\n '/Users/Copeland/Downloads/jpeg_images/wavelet_20130729004114Mh.jpeg',\n '/Users/Copeland/Downloads/jpeg_images/wavelet_20130801202214Mh.jpeg',\n '/Users/Copeland/Downloads/jpeg_images/wavelet_20130728220114Mh.jpeg',\n '/Users/Copeland/Downloads/jpeg_images/wavelet_20130729000914Mh.jpeg',\n '/Users/Copeland/Downloads/jpeg_images/wavelet_20130731222514Mh.jpeg',\n '/Users/Copeland/Downloads/jpeg_images/wavelet_20130731212014Mh.jpeg',\n '/Users/Copeland/Downloads/jpeg_images/wavelet_20130729180114Mh.jpeg',\n '/Users/Copeland/Downloads/jpeg_images/wavelet_20130727020714Mh.jpeg',\n '/Users/Copeland/Downloads/jpeg_images/wavelet_20130801032814Mh.jpeg',\n '/Users/Copeland/Downloads/jpeg_images/wavelet_20130801174814Mh.jpeg',\n '/Users/Copeland/Downloads/jpeg_images/wavelet_20130728013514Mh.jpeg',\n '/Users/Copeland/Downloads/jpeg_images/wavelet_20130729015514Mh.jpeg',\n '/Users/Copeland/Downloads/jpeg_images/wavelet_20130801191314Mh.jpeg',\n '/Users/Copeland/Downloads/jpeg_images/wavelet_20130727015614Mh.jpeg',\n '/Users/Copeland/Downloads/jpeg_images/wavelet_20130727023814Mh.jpeg',\n '/Users/Copeland/Downloads/jpeg_images/wavelet_20130729024714Mh.jpeg',\n '/Users/Copeland/Downloads/jpeg_images/wavelet_20130731223314Mh.jpeg',\n '/Users/Copeland/Downloads/jpeg_images/wavelet_20130731220014Mh.jpeg',\n '/Users/Copeland/Downloads/jpeg_images/wavelet_20130801214714Mh.jpeg',\n '/Users/Copeland/Downloads/jpeg_images/wavelet_20130728203414Mh.jpeg',\n '/Users/Copeland/Downloads/jpeg_images/wavelet_20130728191914Mh.jpeg',\n '/Users/Copeland/Downloads/jpeg_images/wavelet_20130729001314Mh.jpeg',\n '/Users/Copeland/Downloads/jpeg_images/wavelet_20130729034914Mh.jpeg',\n '/Users/Copeland/Downloads/jpeg_images/wavelet_20130728182414Mh.jpeg',\n '/Users/Copeland/Downloads/jpeg_images/wavelet_20130729172814Mh.jpeg',\n '/Users/Copeland/Downloads/jpeg_images/wavelet_20130728204914Mh.jpeg',\n '/Users/Copeland/Downloads/jpeg_images/wavelet_20130801042814Mh.jpeg',\n '/Users/Copeland/Downloads/jpeg_images/wavelet_20130728225914Mh.jpeg',\n '/Users/Copeland/Downloads/jpeg_images/wavelet_20130728013914Mh.jpeg',\n '/Users/Copeland/Downloads/jpeg_images/wavelet_20130728003114Mh.jpeg',\n '/Users/Copeland/Downloads/jpeg_images/wavelet_20130731235614Mh.jpeg',\n '/Users/Copeland/Downloads/jpeg_images/wavelet_20130726223014Mh.jpeg',\n '/Users/Copeland/Downloads/jpeg_images/wavelet_20130801190314Mh.jpeg',\n '/Users/Copeland/Downloads/jpeg_images/wavelet_20130729032314Mh.jpeg',\n '/Users/Copeland/Downloads/jpeg_images/wavelet_20130727003314Mh.jpeg',\n '/Users/Copeland/Downloads/jpeg_images/wavelet_20130727025514Mh.jpeg',\n '/Users/Copeland/Downloads/jpeg_images/wavelet_20130727195914Mh.jpeg',\n '/Users/Copeland/Downloads/jpeg_images/wavelet_20130729003014Mh.jpeg',\n '/Users/Copeland/Downloads/jpeg_images/wavelet_20130729025614Mh.jpeg',\n '/Users/Copeland/Downloads/jpeg_images/wavelet_20130728172914Mh.jpeg',\n '/Users/Copeland/Downloads/jpeg_images/wavelet_20130726212314Mh.jpeg',\n '/Users/Copeland/Downloads/jpeg_images/wavelet_20130727212714Mh.jpeg',\n '/Users/Copeland/Downloads/jpeg_images/wavelet_20130728170514Mh.jpeg',\n '/Users/Copeland/Downloads/jpeg_images/wavelet_20130801221914Mh.jpeg',\n '/Users/Copeland/Downloads/jpeg_images/wavelet_20130729011514Mh.jpeg',\n '/Users/Copeland/Downloads/jpeg_images/wavelet_20130727201014Mh.jpeg',\n '/Users/Copeland/Downloads/jpeg_images/wavelet_20130731234514Mh.jpeg',\n '/Users/Copeland/Downloads/jpeg_images/wavelet_20130801022214Mh.jpeg',\n '/Users/Copeland/Downloads/jpeg_images/wavelet_20130801182714Mh.jpeg',\n '/Users/Copeland/Downloads/jpeg_images/wavelet_20130727001414Mh.jpeg',\n '/Users/Copeland/Downloads/jpeg_images/wavelet_20130729171914Mh.jpeg',\n '/Users/Copeland/Downloads/jpeg_images/wavelet_20120101000014Mh.jpeg',\n '/Users/Copeland/Downloads/jpeg_images/wavelet_20130726195714Mh.jpeg',\n '/Users/Copeland/Downloads/jpeg_images/wavelet_20130801011914Mh.jpeg',\n '/Users/Copeland/Downloads/jpeg_images/wavelet_20130727163114Mh.jpeg',\n '/Users/Copeland/Downloads/jpeg_images/wavelet_20130728023214Mh.jpeg',\n '/Users/Copeland/Downloads/jpeg_images/wavelet_20130727010014Mh.jpeg',\n '/Users/Copeland/Downloads/jpeg_images/wavelet_20130726220114Mh.jpeg',\n '/Users/Copeland/Downloads/jpeg_images/wavelet_20130801034014Mh.jpeg',\n '/Users/Copeland/Downloads/jpeg_images/wavelet_20130728180914Mh.jpeg',\n '/Users/Copeland/Downloads/jpeg_images/wavelet_20130728030514Mh.jpeg',\n '/Users/Copeland/Downloads/jpeg_images/wavelet_20130801180514Mh.jpeg',\n '/Users/Copeland/Downloads/jpeg_images/wavelet_20130801201414Mh.jpeg',\n '/Users/Copeland/Downloads/jpeg_images/wavelet_20130727013414Mh.jpeg',\n '/Users/Copeland/Downloads/jpeg_images/wavelet_20130726223414Mh.jpeg',\n '/Users/Copeland/Downloads/jpeg_images/wavelet_20130728220814Mh.jpeg',\n '/Users/Copeland/Downloads/jpeg_images/wavelet_20130729004814Mh.jpeg',\n '/Users/Copeland/Downloads/jpeg_images/wavelet_20130728194314Mh.jpeg',\n '/Users/Copeland/Downloads/jpeg_images/wavelet_20130729174714Mh.jpeg',\n '/Users/Copeland/Downloads/jpeg_images/wavelet_20130728224114Mh.jpeg',\n '/Users/Copeland/Downloads/jpeg_images/wavelet_20130801040214Mh.jpeg',\n '/Users/Copeland/Downloads/jpeg_images/wavelet_20130728165414Mh.jpeg',\n '/Users/Copeland/Downloads/jpeg_images/wavelet_20130728234514Mh.jpeg',\n '/Users/Copeland/Downloads/jpeg_images/wavelet_20130801172714Mh.jpeg',\n '/Users/Copeland/Downloads/jpeg_images/wavelet_20130729022314Mh.jpeg',\n '/Users/Copeland/Downloads/jpeg_images/wavelet_20130801020614Mh.jpeg',\n '/Users/Copeland/Downloads/jpeg_images/wavelet_20130801023214Mh.jpeg',\n '/Users/Copeland/Downloads/jpeg_images/wavelet_20130727191914Mh.jpeg',\n '/Users/Copeland/Downloads/jpeg_images/wavelet_20130727021514Mh.jpeg',\n '/Users/Copeland/Downloads/jpeg_images/wavelet_20130731232214Mh.jpeg',\n '/Users/Copeland/Downloads/jpeg_images/wavelet_20130801194914Mh.jpeg',\n '/Users/Copeland/Downloads/jpeg_images/wavelet_20130726230514Mh.jpeg',\n '/Users/Copeland/Downloads/jpeg_images/wavelet_20130727030014Mh.jpeg',\n '/Users/Copeland/Downloads/jpeg_images/wavelet_20130728041914Mh.jpeg',\n '/Users/Copeland/Downloads/jpeg_images/wavelet_20130728164314Mh.jpeg',\n '/Users/Copeland/Downloads/jpeg_images/wavelet_20130726204914Mh.jpeg',\n '/Users/Copeland/Downloads/jpeg_images/wavelet_20130801210714Mh.jpeg',\n '/Users/Copeland/Downloads/jpeg_images/wavelet_20130727172814Mh.jpeg',\n '/Users/Copeland/Downloads/jpeg_images/wavelet_20130731224014Mh.jpeg',\n '/Users/Copeland/Downloads/jpeg_images/wavelet_20130801173114Mh.jpeg',\n '/Users/Copeland/Downloads/jpeg_images/wavelet_20130801010314Mh.jpeg',\n '/Users/Copeland/Downloads/jpeg_images/wavelet_20130801031314Mh.jpeg',\n '/Users/Copeland/Downloads/jpeg_images/wavelet_20130731215214Mh.jpeg']"
     },
     "execution_count": 517,
     "metadata": {},
     "output_type": "execute_result"
    }
   ],
   "source": [
    "directory = '/Users/Copeland/Downloads/jpeg_images'\n",
    "\n",
    "paths = []\n",
    "for filename in os.listdir(directory):\n",
    "    f = os.path.join(directory, filename)\n",
    "    paths.append(f)\n",
    "\n",
    "paths"
   ],
   "metadata": {
    "collapsed": false
   }
  },
  {
   "cell_type": "code",
   "execution_count": 511,
   "outputs": [],
   "source": [
    "def get_data(pics: list, side_length: int):\n",
    "    df = pd.DataFrame()\n",
    "\n",
    "    for i in pics:\n",
    "        bw_img = Image.open(i).convert(\"L\")\n",
    "        ds_array = block_reduce_image(bw_img, side_length)\n",
    "\n",
    "        row = ds_array.flatten()\n",
    "        row = pd.Series(row)\n",
    "        row = row.to_frame().T\n",
    "\n",
    "        df = pd.concat([df, row], ignore_index=True)\n",
    "\n",
    "    df['Filename'] = pics\n",
    "    df.set_index('Filename', inplace=True)\n",
    "\n",
    "    return df"
   ],
   "metadata": {
    "collapsed": false
   }
  },
  {
   "cell_type": "code",
   "execution_count": 512,
   "outputs": [],
   "source": [
    "def get_picture(img: str):\n",
    "    image_temp = Image.open(img)\n",
    "    image_temp.save('.image.jpg')\n",
    "    img = Image.open('.image.jpg')\n",
    "\n",
    "    return img"
   ],
   "metadata": {
    "collapsed": false
   }
  },
  {
   "cell_type": "code",
   "execution_count": 513,
   "outputs": [],
   "source": [
    "data1 = get_data(paths, 16)\n",
    "corrupted1 = find_corrupt_images(data1)"
   ],
   "metadata": {
    "collapsed": false
   }
  },
  {
   "cell_type": "code",
   "execution_count": 514,
   "outputs": [
    {
     "data": {
      "text/plain": "                                                    0    1    2         3    \\\nFilename                                                                      \n/Users/Copeland/Downloads/jpeg_images/wavelet_2...  0.0  0.0  0.0  0.028015   \n/Users/Copeland/Downloads/jpeg_images/wavelet_2...  0.0  0.0  0.0  0.037598   \n/Users/Copeland/Downloads/jpeg_images/wavelet_2...  0.0  0.0  0.0  0.024109   \n/Users/Copeland/Downloads/jpeg_images/wavelet_2...  0.0  0.0  0.0  0.029968   \n/Users/Copeland/Downloads/jpeg_images/wavelet_2...  0.0  0.0  0.0  0.021240   \n...                                                 ...  ...  ...       ...   \n/Users/Copeland/Downloads/jpeg_images/wavelet_2...  0.0  0.0  0.0  0.028870   \n/Users/Copeland/Downloads/jpeg_images/wavelet_2...  0.0  0.0  0.0  0.024841   \n/Users/Copeland/Downloads/jpeg_images/wavelet_2...  0.0  0.0  0.0  0.028625   \n/Users/Copeland/Downloads/jpeg_images/wavelet_2...  0.0  0.0  0.0  0.024170   \n/Users/Copeland/Downloads/jpeg_images/wavelet_2...  0.0  0.0  0.0  0.030334   \n\n                                                         4          5    \\\nFilename                                                                  \n/Users/Copeland/Downloads/jpeg_images/wavelet_2...  4.945374  12.411865   \n/Users/Copeland/Downloads/jpeg_images/wavelet_2...  9.951477  24.488708   \n/Users/Copeland/Downloads/jpeg_images/wavelet_2...  4.650757  12.192993   \n/Users/Copeland/Downloads/jpeg_images/wavelet_2...  6.027039  14.556580   \n/Users/Copeland/Downloads/jpeg_images/wavelet_2...  4.441284  10.955261   \n...                                                      ...        ...   \n/Users/Copeland/Downloads/jpeg_images/wavelet_2...  6.300110  15.152893   \n/Users/Copeland/Downloads/jpeg_images/wavelet_2...  4.575195  11.344849   \n/Users/Copeland/Downloads/jpeg_images/wavelet_2...  6.212769  14.972107   \n/Users/Copeland/Downloads/jpeg_images/wavelet_2...  5.297424  13.344299   \n/Users/Copeland/Downloads/jpeg_images/wavelet_2...  6.015259  14.433167   \n\n                                                          6          7    \\\nFilename                                                                   \n/Users/Copeland/Downloads/jpeg_images/wavelet_2...  18.525146  26.063232   \n/Users/Copeland/Downloads/jpeg_images/wavelet_2...  34.919678  42.942017   \n/Users/Copeland/Downloads/jpeg_images/wavelet_2...  20.305908  28.667358   \n/Users/Copeland/Downloads/jpeg_images/wavelet_2...  20.780640  27.400452   \n/Users/Copeland/Downloads/jpeg_images/wavelet_2...  16.632141  26.156311   \n...                                                       ...        ...   \n/Users/Copeland/Downloads/jpeg_images/wavelet_2...  21.297363  26.790283   \n/Users/Copeland/Downloads/jpeg_images/wavelet_2...  18.013062  27.794006   \n/Users/Copeland/Downloads/jpeg_images/wavelet_2...  21.426636  28.159790   \n/Users/Copeland/Downloads/jpeg_images/wavelet_2...  19.646545  26.744080   \n/Users/Copeland/Downloads/jpeg_images/wavelet_2...  20.984497  28.564758   \n\n                                                          8          9    ...  \\\nFilename                                                                  ...   \n/Users/Copeland/Downloads/jpeg_images/wavelet_2...  27.602905  23.059631  ...   \n/Users/Copeland/Downloads/jpeg_images/wavelet_2...  46.072449  41.963013  ...   \n/Users/Copeland/Downloads/jpeg_images/wavelet_2...  28.529236  21.695374  ...   \n/Users/Copeland/Downloads/jpeg_images/wavelet_2...  26.991516  20.015015  ...   \n/Users/Copeland/Downloads/jpeg_images/wavelet_2...  29.941406  25.907898  ...   \n...                                                       ...        ...  ...   \n/Users/Copeland/Downloads/jpeg_images/wavelet_2...  26.124451  20.002258  ...   \n/Users/Copeland/Downloads/jpeg_images/wavelet_2...  28.912231  22.017883  ...   \n/Users/Copeland/Downloads/jpeg_images/wavelet_2...  27.760071  20.622192  ...   \n/Users/Copeland/Downloads/jpeg_images/wavelet_2...  27.064941  23.180298  ...   \n/Users/Copeland/Downloads/jpeg_images/wavelet_2...  28.070984  20.131165  ...   \n\n                                                          246        247  \\\nFilename                                                                   \n/Users/Copeland/Downloads/jpeg_images/wavelet_2...  16.376526  24.697937   \n/Users/Copeland/Downloads/jpeg_images/wavelet_2...  40.504211  48.723755   \n/Users/Copeland/Downloads/jpeg_images/wavelet_2...  11.769409  21.008667   \n/Users/Copeland/Downloads/jpeg_images/wavelet_2...   8.578491  16.529358   \n/Users/Copeland/Downloads/jpeg_images/wavelet_2...  15.760864  24.752747   \n...                                                       ...        ...   \n/Users/Copeland/Downloads/jpeg_images/wavelet_2...   9.924683  16.904602   \n/Users/Copeland/Downloads/jpeg_images/wavelet_2...  12.797241  24.129333   \n/Users/Copeland/Downloads/jpeg_images/wavelet_2...  14.276428  21.414124   \n/Users/Copeland/Downloads/jpeg_images/wavelet_2...  14.853943  23.080933   \n/Users/Copeland/Downloads/jpeg_images/wavelet_2...   8.980042  16.986877   \n\n                                                          248        249  \\\nFilename                                                                   \n/Users/Copeland/Downloads/jpeg_images/wavelet_2...  22.971497  12.004395   \n/Users/Copeland/Downloads/jpeg_images/wavelet_2...  47.445923  37.886475   \n/Users/Copeland/Downloads/jpeg_images/wavelet_2...  24.568359  19.083313   \n/Users/Copeland/Downloads/jpeg_images/wavelet_2...  17.298218   9.292236   \n/Users/Copeland/Downloads/jpeg_images/wavelet_2...  23.489380  11.514099   \n...                                                       ...        ...   \n/Users/Copeland/Downloads/jpeg_images/wavelet_2...  16.375061   8.875244   \n/Users/Copeland/Downloads/jpeg_images/wavelet_2...  26.313660  17.322693   \n/Users/Copeland/Downloads/jpeg_images/wavelet_2...  19.760742  10.003418   \n/Users/Copeland/Downloads/jpeg_images/wavelet_2...  20.959900  10.647095   \n/Users/Copeland/Downloads/jpeg_images/wavelet_2...  17.506531   9.401245   \n\n                                                          250        251  \\\nFilename                                                                   \n/Users/Copeland/Downloads/jpeg_images/wavelet_2...   6.348999   1.541016   \n/Users/Copeland/Downloads/jpeg_images/wavelet_2...  26.362732  10.604736   \n/Users/Copeland/Downloads/jpeg_images/wavelet_2...  12.605469   3.575806   \n/Users/Copeland/Downloads/jpeg_images/wavelet_2...   6.048828   2.639832   \n/Users/Copeland/Downloads/jpeg_images/wavelet_2...   5.666016   1.741577   \n...                                                       ...        ...   \n/Users/Copeland/Downloads/jpeg_images/wavelet_2...   5.579834   2.341064   \n/Users/Copeland/Downloads/jpeg_images/wavelet_2...  10.997131   4.591187   \n/Users/Copeland/Downloads/jpeg_images/wavelet_2...   5.164368   1.834595   \n/Users/Copeland/Downloads/jpeg_images/wavelet_2...   5.421326   1.201172   \n/Users/Copeland/Downloads/jpeg_images/wavelet_2...   5.947266   2.503296   \n\n                                                         252  253  254  255  \nFilename                                                                     \n/Users/Copeland/Downloads/jpeg_images/wavelet_2...  0.000000  0.0  0.0  0.0  \n/Users/Copeland/Downloads/jpeg_images/wavelet_2...  0.000000  0.0  0.0  0.0  \n/Users/Copeland/Downloads/jpeg_images/wavelet_2...  0.000000  0.0  0.0  0.0  \n/Users/Copeland/Downloads/jpeg_images/wavelet_2...  0.016235  0.0  0.0  0.0  \n/Users/Copeland/Downloads/jpeg_images/wavelet_2...  0.009338  0.0  0.0  0.0  \n...                                                      ...  ...  ...  ...  \n/Users/Copeland/Downloads/jpeg_images/wavelet_2...  0.016846  0.0  0.0  0.0  \n/Users/Copeland/Downloads/jpeg_images/wavelet_2...  0.034302  0.0  0.0  0.0  \n/Users/Copeland/Downloads/jpeg_images/wavelet_2...  0.016357  0.0  0.0  0.0  \n/Users/Copeland/Downloads/jpeg_images/wavelet_2...  0.000000  0.0  0.0  0.0  \n/Users/Copeland/Downloads/jpeg_images/wavelet_2...  0.016846  0.0  0.0  0.0  \n\n[99 rows x 256 columns]",
      "text/html": "<div>\n<style scoped>\n    .dataframe tbody tr th:only-of-type {\n        vertical-align: middle;\n    }\n\n    .dataframe tbody tr th {\n        vertical-align: top;\n    }\n\n    .dataframe thead th {\n        text-align: right;\n    }\n</style>\n<table border=\"1\" class=\"dataframe\">\n  <thead>\n    <tr style=\"text-align: right;\">\n      <th></th>\n      <th>0</th>\n      <th>1</th>\n      <th>2</th>\n      <th>3</th>\n      <th>4</th>\n      <th>5</th>\n      <th>6</th>\n      <th>7</th>\n      <th>8</th>\n      <th>9</th>\n      <th>...</th>\n      <th>246</th>\n      <th>247</th>\n      <th>248</th>\n      <th>249</th>\n      <th>250</th>\n      <th>251</th>\n      <th>252</th>\n      <th>253</th>\n      <th>254</th>\n      <th>255</th>\n    </tr>\n    <tr>\n      <th>Filename</th>\n      <th></th>\n      <th></th>\n      <th></th>\n      <th></th>\n      <th></th>\n      <th></th>\n      <th></th>\n      <th></th>\n      <th></th>\n      <th></th>\n      <th></th>\n      <th></th>\n      <th></th>\n      <th></th>\n      <th></th>\n      <th></th>\n      <th></th>\n      <th></th>\n      <th></th>\n      <th></th>\n      <th></th>\n    </tr>\n  </thead>\n  <tbody>\n    <tr>\n      <th>/Users/Copeland/Downloads/jpeg_images/wavelet_20130727031814Mh.jpeg</th>\n      <td>0.0</td>\n      <td>0.0</td>\n      <td>0.0</td>\n      <td>0.028015</td>\n      <td>4.945374</td>\n      <td>12.411865</td>\n      <td>18.525146</td>\n      <td>26.063232</td>\n      <td>27.602905</td>\n      <td>23.059631</td>\n      <td>...</td>\n      <td>16.376526</td>\n      <td>24.697937</td>\n      <td>22.971497</td>\n      <td>12.004395</td>\n      <td>6.348999</td>\n      <td>1.541016</td>\n      <td>0.000000</td>\n      <td>0.0</td>\n      <td>0.0</td>\n      <td>0.0</td>\n    </tr>\n    <tr>\n      <th>/Users/Copeland/Downloads/jpeg_images/wavelet_20130727035014Mh.jpeg</th>\n      <td>0.0</td>\n      <td>0.0</td>\n      <td>0.0</td>\n      <td>0.037598</td>\n      <td>9.951477</td>\n      <td>24.488708</td>\n      <td>34.919678</td>\n      <td>42.942017</td>\n      <td>46.072449</td>\n      <td>41.963013</td>\n      <td>...</td>\n      <td>40.504211</td>\n      <td>48.723755</td>\n      <td>47.445923</td>\n      <td>37.886475</td>\n      <td>26.362732</td>\n      <td>10.604736</td>\n      <td>0.000000</td>\n      <td>0.0</td>\n      <td>0.0</td>\n      <td>0.0</td>\n    </tr>\n    <tr>\n      <th>/Users/Copeland/Downloads/jpeg_images/wavelet_20130728180014Mh.jpeg</th>\n      <td>0.0</td>\n      <td>0.0</td>\n      <td>0.0</td>\n      <td>0.024109</td>\n      <td>4.650757</td>\n      <td>12.192993</td>\n      <td>20.305908</td>\n      <td>28.667358</td>\n      <td>28.529236</td>\n      <td>21.695374</td>\n      <td>...</td>\n      <td>11.769409</td>\n      <td>21.008667</td>\n      <td>24.568359</td>\n      <td>19.083313</td>\n      <td>12.605469</td>\n      <td>3.575806</td>\n      <td>0.000000</td>\n      <td>0.0</td>\n      <td>0.0</td>\n      <td>0.0</td>\n    </tr>\n    <tr>\n      <th>/Users/Copeland/Downloads/jpeg_images/wavelet_20130731214114Mh.jpeg</th>\n      <td>0.0</td>\n      <td>0.0</td>\n      <td>0.0</td>\n      <td>0.029968</td>\n      <td>6.027039</td>\n      <td>14.556580</td>\n      <td>20.780640</td>\n      <td>27.400452</td>\n      <td>26.991516</td>\n      <td>20.015015</td>\n      <td>...</td>\n      <td>8.578491</td>\n      <td>16.529358</td>\n      <td>17.298218</td>\n      <td>9.292236</td>\n      <td>6.048828</td>\n      <td>2.639832</td>\n      <td>0.016235</td>\n      <td>0.0</td>\n      <td>0.0</td>\n      <td>0.0</td>\n    </tr>\n    <tr>\n      <th>/Users/Copeland/Downloads/jpeg_images/wavelet_20130729042214Mh.jpeg</th>\n      <td>0.0</td>\n      <td>0.0</td>\n      <td>0.0</td>\n      <td>0.021240</td>\n      <td>4.441284</td>\n      <td>10.955261</td>\n      <td>16.632141</td>\n      <td>26.156311</td>\n      <td>29.941406</td>\n      <td>25.907898</td>\n      <td>...</td>\n      <td>15.760864</td>\n      <td>24.752747</td>\n      <td>23.489380</td>\n      <td>11.514099</td>\n      <td>5.666016</td>\n      <td>1.741577</td>\n      <td>0.009338</td>\n      <td>0.0</td>\n      <td>0.0</td>\n      <td>0.0</td>\n    </tr>\n    <tr>\n      <th>...</th>\n      <td>...</td>\n      <td>...</td>\n      <td>...</td>\n      <td>...</td>\n      <td>...</td>\n      <td>...</td>\n      <td>...</td>\n      <td>...</td>\n      <td>...</td>\n      <td>...</td>\n      <td>...</td>\n      <td>...</td>\n      <td>...</td>\n      <td>...</td>\n      <td>...</td>\n      <td>...</td>\n      <td>...</td>\n      <td>...</td>\n      <td>...</td>\n      <td>...</td>\n      <td>...</td>\n    </tr>\n    <tr>\n      <th>/Users/Copeland/Downloads/jpeg_images/wavelet_20130731224014Mh.jpeg</th>\n      <td>0.0</td>\n      <td>0.0</td>\n      <td>0.0</td>\n      <td>0.028870</td>\n      <td>6.300110</td>\n      <td>15.152893</td>\n      <td>21.297363</td>\n      <td>26.790283</td>\n      <td>26.124451</td>\n      <td>20.002258</td>\n      <td>...</td>\n      <td>9.924683</td>\n      <td>16.904602</td>\n      <td>16.375061</td>\n      <td>8.875244</td>\n      <td>5.579834</td>\n      <td>2.341064</td>\n      <td>0.016846</td>\n      <td>0.0</td>\n      <td>0.0</td>\n      <td>0.0</td>\n    </tr>\n    <tr>\n      <th>/Users/Copeland/Downloads/jpeg_images/wavelet_20130801173114Mh.jpeg</th>\n      <td>0.0</td>\n      <td>0.0</td>\n      <td>0.0</td>\n      <td>0.024841</td>\n      <td>4.575195</td>\n      <td>11.344849</td>\n      <td>18.013062</td>\n      <td>27.794006</td>\n      <td>28.912231</td>\n      <td>22.017883</td>\n      <td>...</td>\n      <td>12.797241</td>\n      <td>24.129333</td>\n      <td>26.313660</td>\n      <td>17.322693</td>\n      <td>10.997131</td>\n      <td>4.591187</td>\n      <td>0.034302</td>\n      <td>0.0</td>\n      <td>0.0</td>\n      <td>0.0</td>\n    </tr>\n    <tr>\n      <th>/Users/Copeland/Downloads/jpeg_images/wavelet_20130801010314Mh.jpeg</th>\n      <td>0.0</td>\n      <td>0.0</td>\n      <td>0.0</td>\n      <td>0.028625</td>\n      <td>6.212769</td>\n      <td>14.972107</td>\n      <td>21.426636</td>\n      <td>28.159790</td>\n      <td>27.760071</td>\n      <td>20.622192</td>\n      <td>...</td>\n      <td>14.276428</td>\n      <td>21.414124</td>\n      <td>19.760742</td>\n      <td>10.003418</td>\n      <td>5.164368</td>\n      <td>1.834595</td>\n      <td>0.016357</td>\n      <td>0.0</td>\n      <td>0.0</td>\n      <td>0.0</td>\n    </tr>\n    <tr>\n      <th>/Users/Copeland/Downloads/jpeg_images/wavelet_20130801031314Mh.jpeg</th>\n      <td>0.0</td>\n      <td>0.0</td>\n      <td>0.0</td>\n      <td>0.024170</td>\n      <td>5.297424</td>\n      <td>13.344299</td>\n      <td>19.646545</td>\n      <td>26.744080</td>\n      <td>27.064941</td>\n      <td>23.180298</td>\n      <td>...</td>\n      <td>14.853943</td>\n      <td>23.080933</td>\n      <td>20.959900</td>\n      <td>10.647095</td>\n      <td>5.421326</td>\n      <td>1.201172</td>\n      <td>0.000000</td>\n      <td>0.0</td>\n      <td>0.0</td>\n      <td>0.0</td>\n    </tr>\n    <tr>\n      <th>/Users/Copeland/Downloads/jpeg_images/wavelet_20130731215214Mh.jpeg</th>\n      <td>0.0</td>\n      <td>0.0</td>\n      <td>0.0</td>\n      <td>0.030334</td>\n      <td>6.015259</td>\n      <td>14.433167</td>\n      <td>20.984497</td>\n      <td>28.564758</td>\n      <td>28.070984</td>\n      <td>20.131165</td>\n      <td>...</td>\n      <td>8.980042</td>\n      <td>16.986877</td>\n      <td>17.506531</td>\n      <td>9.401245</td>\n      <td>5.947266</td>\n      <td>2.503296</td>\n      <td>0.016846</td>\n      <td>0.0</td>\n      <td>0.0</td>\n      <td>0.0</td>\n    </tr>\n  </tbody>\n</table>\n<p>99 rows × 256 columns</p>\n</div>"
     },
     "execution_count": 514,
     "metadata": {},
     "output_type": "execute_result"
    }
   ],
   "source": [
    "data1"
   ],
   "metadata": {
    "collapsed": false
   }
  },
  {
   "cell_type": "code",
   "execution_count": 485,
   "outputs": [
    {
     "data": {
      "text/plain": "Index(['/Users/Copeland/Downloads/jpeg_images/wavelet_20130801042814Mh.jpeg',\n       '/Users/Copeland/Downloads/jpeg_images/wavelet_20130801022214Mh.jpeg',\n       '/Users/Copeland/Downloads/jpeg_images/wavelet_20130801023214Mh.jpeg',\n       '/Users/Copeland/Downloads/jpeg_images/wavelet_20130728041914Mh.jpeg'],\n      dtype='object', name='Filename')"
     },
     "execution_count": 485,
     "metadata": {},
     "output_type": "execute_result"
    }
   ],
   "source": [
    "corrupted1"
   ],
   "metadata": {
    "collapsed": false
   }
  },
  {
   "cell_type": "code",
   "execution_count": null,
   "outputs": [],
   "source": [],
   "metadata": {
    "collapsed": false
   }
  },
  {
   "cell_type": "code",
   "execution_count": null,
   "outputs": [],
   "source": [],
   "metadata": {
    "collapsed": false
   }
  }
 ],
 "metadata": {
  "kernelspec": {
   "display_name": "Python 3",
   "language": "python",
   "name": "python3"
  },
  "language_info": {
   "codemirror_mode": {
    "name": "ipython",
    "version": 2
   },
   "file_extension": ".py",
   "mimetype": "text/x-python",
   "name": "python",
   "nbconvert_exporter": "python",
   "pygments_lexer": "ipython2",
   "version": "2.7.6"
  }
 },
 "nbformat": 4,
 "nbformat_minor": 0
}
